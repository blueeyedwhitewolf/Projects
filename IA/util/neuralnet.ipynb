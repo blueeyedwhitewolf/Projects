{
 "cells": [
  {
   "cell_type": "code",
   "execution_count": 1,
   "metadata": {},
   "outputs": [
    {
     "name": "stderr",
     "output_type": "stream",
     "text": [
      "Using TensorFlow backend.\n"
     ]
    }
   ],
   "source": [
    "from keras.layers import Input,Dense,Flatten,MaxPooling2D\n",
    "from keras.layers.core import Activation, Dropout\n",
    "from keras.layers.convolutional import Conv2D\n",
    "from keras.layers.normalization import BatchNormalization\n",
    "from keras.layers.advanced_activations import LeakyReLU\n",
    "from keras.models import Model\n",
    "\n",
    "import numpy as np"
   ]
  },
  {
   "cell_type": "code",
   "execution_count": 2,
   "metadata": {},
   "outputs": [],
   "source": [
    "class neuralnet():\n",
    "    def __init__(self,num_chan,size=150,drop=0.):\n",
    "        self.size=size\n",
    "        self.num_chan=num_chan\n",
    "        self.num_layers=int(np.floor(np.log(size)/np.log(2)))+1\n",
    "        self.drop=drop"
   ]
  },
  {
   "cell_type": "code",
   "execution_count": 3,
   "metadata": {},
   "outputs": [],
   "source": [
    "def def_neural_net(self, nf):\n",
    "    input_n=Input((self.size,self.size,self.num_chan))\n",
    "\n",
    "    conv1=[]\n",
    "\n",
    "    #num_chan*150*150\n",
    "\n",
    "    conv=Conv2D(32,(3,3),activation='relu')(input_n)\n",
    "    conv=MaxPooling2D(2,2)(conv)\n",
    "\n",
    "    conv1 = Conv2D(64, (3, 3), activation='relu')(conv)\n",
    "    conv1=MaxPooling2D(2,2)(conv1)\n",
    "\n",
    "    conv2 = Conv2D(64, (3, 3), activation='relu')(conv1)\n",
    "    conv2=MaxPooling2D(2,2)(conv2)   \n",
    "\n",
    "    flat1=Flatten()(conv2)\n",
    "\n",
    "    dense1=Dense(128,activation='relu')(flat1)\n",
    "\n",
    "    dense2=Dense(1)(dense1)\n",
    "\n",
    "    model_distances = Model(inputs=input_n, outputs=dense2)\n",
    "\n",
    "    return model_distances"
   ]
  },
  {
   "cell_type": "code",
   "execution_count": null,
   "metadata": {},
   "outputs": [],
   "source": []
  }
 ],
 "metadata": {
  "kernelspec": {
   "display_name": "Python 3",
   "language": "python",
   "name": "python3"
  },
  "language_info": {
   "codemirror_mode": {
    "name": "ipython",
    "version": 3
   },
   "file_extension": ".py",
   "mimetype": "text/x-python",
   "name": "python",
   "nbconvert_exporter": "python",
   "pygments_lexer": "ipython3",
   "version": "3.7.3"
  }
 },
 "nbformat": 4,
 "nbformat_minor": 2
}
