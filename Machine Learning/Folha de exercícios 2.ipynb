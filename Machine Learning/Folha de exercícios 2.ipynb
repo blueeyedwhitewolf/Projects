{
 "cells": [
  {
   "cell_type": "markdown",
   "metadata": {},
   "source": [
    "# Ficha de exercícios 2"
   ]
  },
  {
   "cell_type": "markdown",
   "metadata": {},
   "source": [
    "## 1 Leitura de nome de ficheiros de uma diretoria"
   ]
  },
  {
   "cell_type": "markdown",
   "metadata": {},
   "source": [
    "No final de cada exercício, mostre no ecran o resultado pedido"
   ]
  },
  {
   "cell_type": "markdown",
   "metadata": {},
   "source": [
    "a) Crie uma variável do tipo \"lista\" vazia chamda \"Nomes_ficheiros\" e outra do tipo \"string\" chamdas \"Caminho\""
   ]
  },
  {
   "cell_type": "code",
   "execution_count": 1,
   "metadata": {},
   "outputs": [],
   "source": [
    "lista=list()\n",
    "caminho=str()"
   ]
  },
  {
   "cell_type": "code",
   "execution_count": 2,
   "metadata": {},
   "outputs": [
    {
     "name": "stdout",
     "output_type": "stream",
     "text": [
      "[]\n",
      "\n"
     ]
    }
   ],
   "source": [
    "print(lista)\n",
    "print(caminho)"
   ]
  },
  {
   "cell_type": "code",
   "execution_count": null,
   "metadata": {},
   "outputs": [],
   "source": []
  },
  {
   "cell_type": "markdown",
   "metadata": {},
   "source": [
    "b) Preencha  lista com todos os ficheiros presentes na diretoria \"Caminho\".\n",
    "Sugestão: utilize a biblioteca \"os\" a o use a funcão \"listdir()\""
   ]
  },
  {
   "cell_type": "code",
   "execution_count": 3,
   "metadata": {},
   "outputs": [
    {
     "data": {
      "text/plain": [
       "'C:/Users/Admin/Desktop/projeto'"
      ]
     },
     "execution_count": 3,
     "metadata": {},
     "output_type": "execute_result"
    }
   ],
   "source": [
    "caminho=('C:/Users/Admin/Desktop/projeto')\n",
    "caminho"
   ]
  },
  {
   "cell_type": "code",
   "execution_count": 4,
   "metadata": {},
   "outputs": [
    {
     "data": {
      "text/plain": [
       "['.ipynb_checkpoints',\n",
       " '20190208 - Glaucoma - Localization of Favea - Catia Machado.pdf',\n",
       " 'anotacoes_projeto.txt',\n",
       " 'artigos',\n",
       " 'Baidu Research Open-Access Dataset - Introduction.pdf',\n",
       " 'Basic_Python_3.ipynb',\n",
       " 'dataset',\n",
       " 'deep-learning-with-python-notebooks-master',\n",
       " 'Folha de exercícios 1.ipynb',\n",
       " 'Folha de exercícios 2.ipynb',\n",
       " 'Python']"
      ]
     },
     "execution_count": 4,
     "metadata": {},
     "output_type": "execute_result"
    }
   ],
   "source": [
    "import os\n",
    "dirs = os.listdir(caminho)\n",
    "\n",
    "for file in dirs:\n",
    "    lista.append(file)\n",
    "    \n",
    "lista"
   ]
  },
  {
   "cell_type": "markdown",
   "metadata": {},
   "source": [
    "c) Altere o programa anterior de forma a que a lista apenas tenha ficheiros com uma determinada extensão, e.g. \".jpg\""
   ]
  },
  {
   "cell_type": "code",
   "execution_count": 5,
   "metadata": {},
   "outputs": [
    {
     "data": {
      "text/plain": [
       "['Basic_Python_3.ipynb',\n",
       " 'Folha de exercícios 1.ipynb',\n",
       " 'Folha de exercícios 2.ipynb']"
      ]
     },
     "execution_count": 5,
     "metadata": {},
     "output_type": "execute_result"
    }
   ],
   "source": [
    "lista=list()\n",
    "for file in dirs:\n",
    "    if file.endswith(\".ipynb\"):\n",
    "        lista.append(file)\n",
    "lista"
   ]
  },
  {
   "cell_type": "markdown",
   "metadata": {},
   "source": [
    "d) Com base no códigos das lineas anteriores, crie uma função chamada \"listaFicheirosDiretoria(caminho, tipo_ficheiro)\", que passando parâmetro uma directoria e o tipo de ficheiro (e.g. \".png\"), retorne uma lista de todos os ficheiros dessa diretoria com a referida extensão. "
   ]
  },
  {
   "cell_type": "code",
   "execution_count": 6,
   "metadata": {},
   "outputs": [],
   "source": [
    "def listaFicheirosDiretoria(caminho,tipo_ficheiro):\n",
    "    import os\n",
    "    \n",
    "    lista=list()    \n",
    "    \n",
    "    dirs = os.listdir(caminho)\n",
    "    \n",
    "    for file in dirs:\n",
    "        if file.endswith(\".\"+tipo_ficheiro):\n",
    "            lista.append(file)\n",
    "    return lista"
   ]
  },
  {
   "cell_type": "code",
   "execution_count": 7,
   "metadata": {},
   "outputs": [
    {
     "data": {
      "text/plain": [
       "['20190208 - Glaucoma - Localization of Favea - Catia Machado.pdf',\n",
       " 'Baidu Research Open-Access Dataset - Introduction.pdf']"
      ]
     },
     "execution_count": 7,
     "metadata": {},
     "output_type": "execute_result"
    }
   ],
   "source": [
    "listaFicheirosDiretoria(caminho,'pdf')"
   ]
  },
  {
   "cell_type": "markdown",
   "metadata": {},
   "source": [
    "# 2 Ler e mostrar imagens"
   ]
  },
  {
   "cell_type": "markdown",
   "metadata": {},
   "source": [
    "a) Faça a leitura de uma imagem do disco para uma matriz IMG "
   ]
  },
  {
   "cell_type": "code",
   "execution_count": 8,
   "metadata": {},
   "outputs": [
    {
     "name": "stdout",
     "output_type": "stream",
     "text": [
      "(537, 1280, 4)\n"
     ]
    },
    {
     "data": {
      "text/plain": [
       "array([[[0, 0, 0, 0],\n",
       "        [0, 0, 0, 0],\n",
       "        [0, 0, 0, 0],\n",
       "        ...,\n",
       "        [0, 0, 0, 0],\n",
       "        [0, 0, 0, 0],\n",
       "        [0, 0, 0, 0]],\n",
       "\n",
       "       [[0, 0, 0, 0],\n",
       "        [0, 0, 0, 0],\n",
       "        [0, 0, 0, 0],\n",
       "        ...,\n",
       "        [0, 0, 0, 0],\n",
       "        [0, 0, 0, 0],\n",
       "        [0, 0, 0, 0]],\n",
       "\n",
       "       [[0, 0, 0, 0],\n",
       "        [0, 0, 0, 0],\n",
       "        [0, 0, 0, 0],\n",
       "        ...,\n",
       "        [0, 0, 0, 0],\n",
       "        [0, 0, 0, 0],\n",
       "        [0, 0, 0, 0]],\n",
       "\n",
       "       ...,\n",
       "\n",
       "       [[0, 0, 0, 0],\n",
       "        [0, 0, 0, 0],\n",
       "        [0, 0, 0, 0],\n",
       "        ...,\n",
       "        [0, 0, 0, 0],\n",
       "        [0, 0, 0, 0],\n",
       "        [0, 0, 0, 0]],\n",
       "\n",
       "       [[0, 0, 0, 0],\n",
       "        [0, 0, 0, 0],\n",
       "        [0, 0, 0, 0],\n",
       "        ...,\n",
       "        [0, 0, 0, 0],\n",
       "        [0, 0, 0, 0],\n",
       "        [0, 0, 0, 0]],\n",
       "\n",
       "       [[0, 0, 0, 0],\n",
       "        [0, 0, 0, 0],\n",
       "        [0, 0, 0, 0],\n",
       "        ...,\n",
       "        [0, 0, 0, 0],\n",
       "        [0, 0, 0, 0],\n",
       "        [0, 0, 0, 0]]], dtype=uint8)"
      ]
     },
     "execution_count": 8,
     "metadata": {},
     "output_type": "execute_result"
    }
   ],
   "source": [
    "import numpy as np \n",
    "from PIL import Image\n",
    "\n",
    "img = Image.open('C:/Users/Admin/Desktop/XamarinLogo.png') \n",
    "IMG = np.array(img) \n",
    "print(IMG.shape)\n",
    "\n",
    "IMG"
   ]
  },
  {
   "cell_type": "markdown",
   "metadata": {},
   "source": [
    "b) Faça o plot da imagem no ecran"
   ]
  },
  {
   "cell_type": "code",
   "execution_count": 9,
   "metadata": {},
   "outputs": [
    {
     "data": {
      "image/png": "[encoded data removed]",
      "text/plain": [
       "<PIL.PngImagePlugin.PngImageFile image mode=RGBA size=1280x537 at 0x1E283E052B0>"
      ]
     },
     "execution_count": 9,
     "metadata": {},
     "output_type": "execute_result"
    }
   ],
   "source": [
    "import numpy as np \n",
    "from PIL import Image\n",
    "\n",
    "img = Image.open('C:/Users/Admin/Desktop/XamarinLogo.png') \n",
    "\n",
    "img"
   ]
  },
  {
   "cell_type": "markdown",
   "metadata": {},
   "source": [
    "C) Faça o plot em a imagem aparece repteida em duas linhas e 3 colunas"
   ]
  },
  {
   "cell_type": "code",
   "execution_count": 42,
   "metadata": {},
   "outputs": [
    {
     "data": {
      "image/png": "[encoded data removed]",
      "text/plain": [
       "<Figure size 432x288 with 6 Axes>"
      ]
     },
     "metadata": {
      "needs_background": "light"
     },
     "output_type": "display_data"
    }
   ],
   "source": [
    "from matplotlib import pyplot as plt\n",
    "\n",
    "fig = plt.figure()\n",
    "gs = fig.add_gridspec(2, 3)\n",
    "\n",
    "for i in range(2):\n",
    "    for j in range(3):\n",
    "        fig.add_subplot(gs[i, j])\n",
    "        plt.imshow(img)\n",
    "        plt.axis('off')\n"
   ]
  },
  {
   "cell_type": "markdown",
   "metadata": {},
   "source": [
    "# 3 Implementação de uma convolução 2D"
   ]
  },
  {
   "cell_type": "markdown",
   "metadata": {},
   "source": [
    "O seguinte vídeo mostra o que é uma convolução, como se calcula e o que é o padding.  https://www.youtube.com/watch?v=DYdfzN-57z8"
   ]
  },
  {
   "cell_type": "markdown",
   "metadata": {},
   "source": [
    "a) Crie uma matriz IMG com dimensão 5x5 com valores de 1 nas linhas pares e 0 nas linhas impares."
   ]
  },
  {
   "cell_type": "code",
   "execution_count": 48,
   "metadata": {},
   "outputs": [
    {
     "data": {
      "text/plain": [
       "array([[0., 0., 0., 0., 0.],\n",
       "       [1., 1., 1., 1., 1.],\n",
       "       [0., 0., 0., 0., 0.],\n",
       "       [1., 1., 1., 1., 1.],\n",
       "       [0., 0., 0., 0., 0.]])"
      ]
     },
     "execution_count": 48,
     "metadata": {},
     "output_type": "execute_result"
    }
   ],
   "source": [
    "IMG=np.zeros((5,5))\n",
    "IMG\n",
    "\n",
    "for i in range(5):\n",
    "    if(i%2==1):\n",
    "        IMG[i,:]=1\n",
    "IMG"
   ]
  },
  {
   "cell_type": "markdown",
   "metadata": {},
   "source": [
    "b) Crie uma matriz Mask \"Interior\", com dimensão 3x3, e preencha-a com valores pares, e.g. 2, 4, 6, 8,..., 18."
   ]
  },
  {
   "cell_type": "code",
   "execution_count": 57,
   "metadata": {},
   "outputs": [
    {
     "data": {
      "text/plain": [
       "array([[ 2.,  4.,  6.],\n",
       "       [ 8., 10., 12.],\n",
       "       [14., 16., 18.]])"
      ]
     },
     "execution_count": 57,
     "metadata": {},
     "output_type": "execute_result"
    }
   ],
   "source": [
    "Interior=np.zeros((3,3))\n",
    "\n",
    "cont=1\n",
    "\n",
    "for i in range(3):\n",
    "    for j in range(3):\n",
    "        Interior[i,j]=2*cont\n",
    "        cont+=1\n",
    "        \n",
    "Interior"
   ]
  },
  {
   "cell_type": "markdown",
   "metadata": {},
   "source": [
    "c) Crie um ciclo, em que para cada passagem seja copiado um \"retalho\" 3x3 e guardado numa matriz chamada patchIMG, a começar no canto superior esquerdo se desloque sucessivamente para a direita uma coluna até que chegue ao fim da matriz à direita. Nessa altura deve começar no inicio da linha seguinte, sucessivamente até que que termine no canto inferior direito."
   ]
  },
  {
   "cell_type": "code",
   "execution_count": 21,
   "metadata": {},
   "outputs": [
    {
     "ename": "AttributeError",
     "evalue": "'numpy.ndarray' object has no attribute 'crop'",
     "output_type": "error",
     "traceback": [
      "\u001b[1;31m---------------------------------------------------------------------------\u001b[0m",
      "\u001b[1;31mAttributeError\u001b[0m                            Traceback (most recent call last)",
      "\u001b[1;32m<ipython-input-21-056d202b1cf4>\u001b[0m in \u001b[0;36m<module>\u001b[1;34m\u001b[0m\n\u001b[0;32m      9\u001b[0m \u001b[1;32mfor\u001b[0m \u001b[0mi\u001b[0m \u001b[1;32min\u001b[0m \u001b[0mrange\u001b[0m\u001b[1;33m(\u001b[0m\u001b[0msize_row\u001b[0m\u001b[1;33m)\u001b[0m\u001b[1;33m:\u001b[0m\u001b[1;33m\u001b[0m\u001b[1;33m\u001b[0m\u001b[0m\n\u001b[0;32m     10\u001b[0m     \u001b[1;32mfor\u001b[0m \u001b[0mj\u001b[0m \u001b[1;32min\u001b[0m \u001b[0mrange\u001b[0m\u001b[1;33m(\u001b[0m\u001b[0msize_col\u001b[0m\u001b[1;33m)\u001b[0m\u001b[1;33m:\u001b[0m\u001b[1;33m\u001b[0m\u001b[1;33m\u001b[0m\u001b[0m\n\u001b[1;32m---> 11\u001b[1;33m         \u001b[0mpatchIMG\u001b[0m\u001b[1;33m=\u001b[0m\u001b[0mmatrix\u001b[0m\u001b[1;33m.\u001b[0m\u001b[0mcrop\u001b[0m\u001b[1;33m(\u001b[0m\u001b[1;36m3\u001b[0m\u001b[1;33m,\u001b[0m\u001b[1;36m3\u001b[0m\u001b[1;33m,\u001b[0m\u001b[1;36m3\u001b[0m\u001b[1;33m,\u001b[0m\u001b[1;36m3\u001b[0m\u001b[1;33m)\u001b[0m\u001b[1;33m\u001b[0m\u001b[1;33m\u001b[0m\u001b[0m\n\u001b[0m\u001b[0;32m     12\u001b[0m \u001b[1;33m\u001b[0m\u001b[0m\n",
      "\u001b[1;31mAttributeError\u001b[0m: 'numpy.ndarray' object has no attribute 'crop'"
     ]
    }
   ],
   "source": [
    "import numpy as np\n",
    "\n",
    "patchIMG=np.zeros((3,3))\n",
    "matrix=np.ones((10,10))\n",
    "\n",
    "size_row=len(matrix)\n",
    "size_col=len(matrix[0])\n",
    "\n",
    "for i in range(size_row):\n",
    "    for j in range(size_col):\n",
    "        patchIMG=matrix\n",
    "        "
   ]
  },
  {
   "cell_type": "markdown",
   "metadata": {},
   "source": [
    "d) Crei uma função \"soma_produtos(patchIMG,Mask)\" e calcule a soma de produtos dos elementos reciprocos, entre duas matrizes da mesma dimensão."
   ]
  },
  {
   "cell_type": "code",
   "execution_count": 18,
   "metadata": {},
   "outputs": [],
   "source": [
    "import numpy as np\n",
    "\n",
    "def soma_produtos(patchIMG,Mask):\n",
    "    soma=np.zeros((len(patchIMG),len(patchIMG[0])))\n",
    "    for row in range(len(patchIMG)):\n",
    "        for col in range(len(patchIMG[0])):\n",
    "            soma[row,col]=patchIMG[row,col]+Mask[row,col]\n",
    "    return soma"
   ]
  },
  {
   "cell_type": "code",
   "execution_count": 19,
   "metadata": {},
   "outputs": [
    {
     "data": {
      "text/plain": [
       "array([[1., 1., 1., 1., 1.],\n",
       "       [1., 1., 1., 1., 1.],\n",
       "       [1., 1., 1., 1., 1.],\n",
       "       [1., 1., 1., 1., 1.],\n",
       "       [1., 1., 1., 1., 1.]])"
      ]
     },
     "execution_count": 19,
     "metadata": {},
     "output_type": "execute_result"
    }
   ],
   "source": [
    "patchIMG=np.zeros((5,5))\n",
    "Mask=np.ones((5,5))\n",
    "soma_produtos(patchIMG,Mask)"
   ]
  },
  {
   "cell_type": "markdown",
   "metadata": {},
   "source": [
    "e) Faça função \"convolucao_2D(IMG,Mask)\" que combine o programas criados em c) e com a função da d) de forma a calcular os valores da convolução entre a imagem IMG e a mascara Mask e guardar o resultado num matriz Resultado_conv2D."
   ]
  },
  {
   "cell_type": "code",
   "execution_count": null,
   "metadata": {},
   "outputs": [],
   "source": []
  },
  {
   "cell_type": "markdown",
   "metadata": {},
   "source": [
    "f) Ajuste o código anterior numa nova função \"convolucao_2D_2(IMG,Mask)\"de forma a termos uma matriz resultado com a mesma dimensão da mantriz IMG de entrada. A matriz deve ter padding com valores 0."
   ]
  },
  {
   "cell_type": "code",
   "execution_count": null,
   "metadata": {},
   "outputs": [],
   "source": []
  },
  {
   "cell_type": "markdown",
   "metadata": {},
   "source": [
    "g)  Altere o código de f) e crie uma nova função \"convolucao_2D_3(IMG,Mask)\" de forma a poder definir o padding com os valores vizinhos."
   ]
  },
  {
   "cell_type": "code",
   "execution_count": null,
   "metadata": {},
   "outputs": [],
   "source": []
  },
  {
   "cell_type": "markdown",
   "metadata": {},
   "source": [
    "h) Altere o código de g) e crei uma nova função \"convolucao_2D_4(IMG,Mask)\" de forma a calcular a convolução 2D para uma imagem IMG com qualquer dimensão. Faça o plot da imagem antes da convolução e depois da convolução."
   ]
  },
  {
   "cell_type": "code",
   "execution_count": null,
   "metadata": {},
   "outputs": [],
   "source": []
  }
 ],
 "metadata": {
  "kernelspec": {
   "display_name": "Python 3",
   "language": "python",
   "name": "python3"
  },
  "language_info": {
   "codemirror_mode": {
    "name": "ipython",
    "version": 3
   },
   "file_extension": ".py",
   "mimetype": "text/x-python",
   "name": "python",
   "nbconvert_exporter": "python",
   "pygments_lexer": "ipython3",
   "version": "3.6.7"
  }
 },
 "nbformat": 4,
 "nbformat_minor": 2
}
